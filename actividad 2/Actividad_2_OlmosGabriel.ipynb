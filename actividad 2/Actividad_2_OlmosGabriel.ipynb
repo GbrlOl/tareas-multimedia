{
  "nbformat": 4,
  "nbformat_minor": 0,
  "metadata": {
    "colab": {
      "provenance": [],
      "authorship_tag": "ABX9TyPZ3X5h5/kzJYHTL3kfm2NJ",
      "include_colab_link": true
    },
    "kernelspec": {
      "name": "python3",
      "display_name": "Python 3"
    },
    "language_info": {
      "name": "python"
    }
  },
  "cells": [
    {
      "cell_type": "markdown",
      "metadata": {
        "id": "view-in-github",
        "colab_type": "text"
      },
      "source": [
        "<a href=\"https://colab.research.google.com/github/GbrlOl/tareas-multimedia/blob/main/actividad%202/Actividad_2_OlmosGabriel.ipynb\" target=\"_parent\"><img src=\"https://colab.research.google.com/assets/colab-badge.svg\" alt=\"Open In Colab\"/></a>"
      ]
    },
    {
      "cell_type": "code",
      "source": [
        "import numpy as np"
      ],
      "metadata": {
        "id": "77u9X0q7c3Vd"
      },
      "execution_count": null,
      "outputs": []
    },
    {
      "cell_type": "code",
      "source": [
        "lista = [1, 2, 3, 4, 5]"
      ],
      "metadata": {
        "id": "-5i27AYyfgel"
      },
      "execution_count": null,
      "outputs": []
    },
    {
      "cell_type": "code",
      "source": [
        "vector = np.array(lista)"
      ],
      "metadata": {
        "id": "h7GJQrdKfkD3"
      },
      "execution_count": null,
      "outputs": []
    },
    {
      "cell_type": "code",
      "source": [
        "len(vector)"
      ],
      "metadata": {
        "colab": {
          "base_uri": "https://localhost:8080/"
        },
        "id": "XQOC8Ya0fsXF",
        "outputId": "d1386e99-0cf6-4df7-a2da-6c8125de2b33"
      },
      "execution_count": null,
      "outputs": [
        {
          "output_type": "execute_result",
          "data": {
            "text/plain": [
              "5"
            ]
          },
          "metadata": {},
          "execution_count": 7
        }
      ]
    },
    {
      "cell_type": "code",
      "source": [
        "array = np.linspace(0, 10, 50)\n",
        "array"
      ],
      "metadata": {
        "colab": {
          "base_uri": "https://localhost:8080/"
        },
        "id": "_oBNTsvSf8O4",
        "outputId": "4645f54c-9ef4-4df0-a5a3-335c203c9e3e"
      },
      "execution_count": null,
      "outputs": [
        {
          "output_type": "execute_result",
          "data": {
            "text/plain": [
              "array([ 0.        ,  0.20408163,  0.40816327,  0.6122449 ,  0.81632653,\n",
              "        1.02040816,  1.2244898 ,  1.42857143,  1.63265306,  1.83673469,\n",
              "        2.04081633,  2.24489796,  2.44897959,  2.65306122,  2.85714286,\n",
              "        3.06122449,  3.26530612,  3.46938776,  3.67346939,  3.87755102,\n",
              "        4.08163265,  4.28571429,  4.48979592,  4.69387755,  4.89795918,\n",
              "        5.10204082,  5.30612245,  5.51020408,  5.71428571,  5.91836735,\n",
              "        6.12244898,  6.32653061,  6.53061224,  6.73469388,  6.93877551,\n",
              "        7.14285714,  7.34693878,  7.55102041,  7.75510204,  7.95918367,\n",
              "        8.16326531,  8.36734694,  8.57142857,  8.7755102 ,  8.97959184,\n",
              "        9.18367347,  9.3877551 ,  9.59183673,  9.79591837, 10.        ])"
            ]
          },
          "metadata": {},
          "execution_count": 8
        }
      ]
    },
    {
      "cell_type": "code",
      "source": [
        "len(array)"
      ],
      "metadata": {
        "colab": {
          "base_uri": "https://localhost:8080/"
        },
        "id": "nyOkRLT2gJ_p",
        "outputId": "b02b7061-06df-4bfa-f16d-13abb4cfa3a8"
      },
      "execution_count": null,
      "outputs": [
        {
          "output_type": "execute_result",
          "data": {
            "text/plain": [
              "50"
            ]
          },
          "metadata": {},
          "execution_count": 9
        }
      ]
    },
    {
      "cell_type": "code",
      "source": [
        "fn = np.sin(array)\n",
        "fn"
      ],
      "metadata": {
        "colab": {
          "base_uri": "https://localhost:8080/"
        },
        "id": "f0WEc3J0gOAv",
        "outputId": "1e6803b4-f0ec-4846-d59d-fcae46ff68f7"
      },
      "execution_count": null,
      "outputs": [
        {
          "output_type": "execute_result",
          "data": {
            "text/plain": [
              "array([ 0.        ,  0.20266794,  0.39692415,  0.57470604,  0.72863478,\n",
              "        0.85232157,  0.94063279,  0.98990308,  0.99808748,  0.96484631,\n",
              "        0.89155923,  0.78126802,  0.63855032,  0.46932961,  0.2806294 ,\n",
              "        0.08028167, -0.12339814, -0.32195632, -0.50715171, -0.67129779,\n",
              "       -0.80758169, -0.91034694, -0.97532829, -0.99982867, -0.9828312 ,\n",
              "       -0.92504137, -0.82885774, -0.6982724 , -0.53870529, -0.35677924,\n",
              "       -0.16004509,  0.04333173,  0.24491007,  0.43632343,  0.6096272 ,\n",
              "        0.75762842,  0.8741843 ,  0.9544572 ,  0.99511539,  0.99447137,\n",
              "        0.95255185,  0.8710967 ,  0.75348673,  0.60460332,  0.43062587,\n",
              "        0.23877532,  0.0370144 , -0.16628279, -0.36267843, -0.54402111])"
            ]
          },
          "metadata": {},
          "execution_count": 11
        }
      ]
    },
    {
      "cell_type": "code",
      "source": [
        "len(fn)"
      ],
      "metadata": {
        "colab": {
          "base_uri": "https://localhost:8080/"
        },
        "id": "6BfMR_xfgcFE",
        "outputId": "0f9acba6-fa43-440f-ecbc-4e0bfc33a2c4"
      },
      "execution_count": null,
      "outputs": [
        {
          "output_type": "execute_result",
          "data": {
            "text/plain": [
              "50"
            ]
          },
          "metadata": {},
          "execution_count": 12
        }
      ]
    },
    {
      "cell_type": "code",
      "source": [
        "fn.size"
      ],
      "metadata": {
        "colab": {
          "base_uri": "https://localhost:8080/"
        },
        "id": "EoDa-lTDgfa0",
        "outputId": "ecab7efe-9ae0-41ea-e5d9-51807388688d"
      },
      "execution_count": null,
      "outputs": [
        {
          "output_type": "execute_result",
          "data": {
            "text/plain": [
              "50"
            ]
          },
          "metadata": {},
          "execution_count": 13
        }
      ]
    },
    {
      "cell_type": "code",
      "source": [
        "ceros = np.ones(10)\n",
        "print(ceros.size)\n",
        "ceros"
      ],
      "metadata": {
        "colab": {
          "base_uri": "https://localhost:8080/"
        },
        "id": "18Y9IMekgnH4",
        "outputId": "c2c7f6a4-bd53-40e8-bb9c-3f8fb38ff9d6"
      },
      "execution_count": null,
      "outputs": [
        {
          "output_type": "stream",
          "name": "stdout",
          "text": [
            "10\n"
          ]
        },
        {
          "output_type": "execute_result",
          "data": {
            "text/plain": [
              "array([1., 1., 1., 1., 1., 1., 1., 1., 1., 1.])"
            ]
          },
          "metadata": {},
          "execution_count": 17
        }
      ]
    },
    {
      "cell_type": "code",
      "source": [
        "ceros.dtype"
      ],
      "metadata": {
        "colab": {
          "base_uri": "https://localhost:8080/"
        },
        "id": "3eelBojdgzgQ",
        "outputId": "68e0182c-d296-4772-df97-858f6348371a"
      },
      "execution_count": null,
      "outputs": [
        {
          "output_type": "execute_result",
          "data": {
            "text/plain": [
              "dtype('float64')"
            ]
          },
          "metadata": {},
          "execution_count": 18
        }
      ]
    },
    {
      "cell_type": "code",
      "source": [
        "unos = np.ones((10,10))\n",
        "unos"
      ],
      "metadata": {
        "colab": {
          "base_uri": "https://localhost:8080/"
        },
        "id": "aL2vm5lWg3ei",
        "outputId": "ee297a29-7f8d-4db0-bc3b-62a7fa8c3072"
      },
      "execution_count": null,
      "outputs": [
        {
          "output_type": "execute_result",
          "data": {
            "text/plain": [
              "array([[1., 1., 1., 1., 1., 1., 1., 1., 1., 1.],\n",
              "       [1., 1., 1., 1., 1., 1., 1., 1., 1., 1.],\n",
              "       [1., 1., 1., 1., 1., 1., 1., 1., 1., 1.],\n",
              "       [1., 1., 1., 1., 1., 1., 1., 1., 1., 1.],\n",
              "       [1., 1., 1., 1., 1., 1., 1., 1., 1., 1.],\n",
              "       [1., 1., 1., 1., 1., 1., 1., 1., 1., 1.],\n",
              "       [1., 1., 1., 1., 1., 1., 1., 1., 1., 1.],\n",
              "       [1., 1., 1., 1., 1., 1., 1., 1., 1., 1.],\n",
              "       [1., 1., 1., 1., 1., 1., 1., 1., 1., 1.],\n",
              "       [1., 1., 1., 1., 1., 1., 1., 1., 1., 1.]])"
            ]
          },
          "metadata": {},
          "execution_count": 19
        }
      ]
    },
    {
      "cell_type": "code",
      "source": [
        "unos.size"
      ],
      "metadata": {
        "colab": {
          "base_uri": "https://localhost:8080/"
        },
        "id": "ty3oa14lg8N8",
        "outputId": "83cfa6d9-5eac-448c-ef3f-eba16ab15f0c"
      },
      "execution_count": null,
      "outputs": [
        {
          "output_type": "execute_result",
          "data": {
            "text/plain": [
              "100"
            ]
          },
          "metadata": {},
          "execution_count": 20
        }
      ]
    },
    {
      "cell_type": "code",
      "source": [
        "formula = np.sin(array) * (np.cos(array) + np.cos(array) ** 2)\n",
        "formula"
      ],
      "metadata": {
        "colab": {
          "base_uri": "https://localhost:8080/"
        },
        "id": "ggO75QDpg--5",
        "outputId": "b7c33ed9-4090-4646-ae00-044c13ddbb9f"
      },
      "execution_count": null,
      "outputs": [
        {
          "output_type": "execute_result",
          "data": {
            "text/plain": [
              "array([ 0.00000000e+00,  3.92805569e-01,  6.98706625e-01,  8.55204480e-01,\n",
              "        8.40840017e-01,  6.78930426e-01,  4.27645429e-01,  1.60203733e-01,\n",
              "       -5.78849991e-02, -1.86932376e-01, -2.20912309e-01, -1.83266281e-01,\n",
              "       -1.13231947e-01, -4.84786232e-02, -1.08236125e-02, -2.58295400e-04,\n",
              "        9.35893959e-04,  1.62299447e-02,  6.03813082e-02,  1.28774030e-01,\n",
              "        1.95389472e-01,  2.20829662e-01,  1.67780570e-01,  1.81646256e-02,\n",
              "       -2.14797565e-01, -4.84874156e-01, -7.23140481e-01, -8.57651539e-01,\n",
              "       -8.36227313e-01, -6.44663446e-01, -3.13927680e-01,  8.65414056e-02,\n",
              "        4.67671665e-01,  7.45856400e-01,  8.66306426e-01,  8.17242645e-01,\n",
              "        6.30633143e-01,  3.69717899e-01,  1.07934093e-01, -9.34618052e-02,\n",
              "       -2.01685134e-01, -2.17705355e-01, -1.69689255e-01, -9.79892077e-02,\n",
              "       -3.78818010e-02, -6.70683885e-03, -2.53473941e-05,  2.28274253e-03,\n",
              "        2.30119440e-02,  7.34594416e-02])"
            ]
          },
          "metadata": {},
          "execution_count": 23
        }
      ]
    },
    {
      "cell_type": "code",
      "source": [
        "aleatorio = np.random.random(60)\n",
        "aleatorio"
      ],
      "metadata": {
        "colab": {
          "base_uri": "https://localhost:8080/"
        },
        "id": "pnj0-X3yhW4B",
        "outputId": "592545ae-2d99-46fe-e4d7-ba8885787e3f"
      },
      "execution_count": null,
      "outputs": [
        {
          "output_type": "execute_result",
          "data": {
            "text/plain": [
              "array([0.29920924, 0.75031158, 0.38216872, 0.35971873, 0.84476308,\n",
              "       0.05220537, 0.7577691 , 0.83038362, 0.30517656, 0.81802418,\n",
              "       0.87658026, 0.7233979 , 0.34246199, 0.59589727, 0.99069679,\n",
              "       0.79996584, 0.97120485, 0.65686463, 0.16958568, 0.96875702,\n",
              "       0.03566921, 0.13220147, 0.92947431, 0.59938345, 0.20758608,\n",
              "       0.11175893, 0.92794813, 0.15024634, 0.76823018, 0.66395001,\n",
              "       0.80480833, 0.25036765, 0.87933451, 0.30988049, 0.64516721,\n",
              "       0.07902284, 0.52303867, 0.53528768, 0.46863936, 0.32635765,\n",
              "       0.60279425, 0.54644754, 0.77317909, 0.94533828, 0.2184241 ,\n",
              "       0.0438519 , 0.92171619, 0.3637069 , 0.61530405, 0.65161837,\n",
              "       0.49799553, 0.88672099, 0.80196815, 0.06342699, 0.7132717 ,\n",
              "       0.34273469, 0.67479081, 0.63390431, 0.38048029, 0.23098165])"
            ]
          },
          "metadata": {},
          "execution_count": 24
        }
      ]
    },
    {
      "cell_type": "code",
      "source": [
        "import matplotlib.pyplot as plt"
      ],
      "metadata": {
        "id": "VLIxaOySiEem"
      },
      "execution_count": null,
      "outputs": []
    },
    {
      "cell_type": "code",
      "source": [
        "plt.figure(figsize=(11,3.5))\n",
        "plt.subplot(1, 2, 1)\n",
        "plt.plot(array, formula, color=\"red\")\n",
        "plt.title(\"Gráfica 1 $V_o^2$\")\n",
        "plt.xlabel(\"tiempo [s]\")\n",
        "plt.ylabel(\"Amplitud [V]\")\n",
        "plt.grid()\n",
        "plt.legend(\"h\")\n",
        "\n",
        "plt.subplot(1,2,2)\n",
        "plt.plot(array, formula, color=\"green\")\n",
        "plt.title(\"Gráfica 2\")\n"
      ],
      "metadata": {
        "colab": {
          "base_uri": "https://localhost:8080/",
          "height": 393
        },
        "id": "dII2oDnniTvb",
        "outputId": "2cec353f-385b-411f-f861-6c912aaccf21"
      },
      "execution_count": null,
      "outputs": [
        {
          "output_type": "execute_result",
          "data": {
            "text/plain": [
              "Text(0.5, 1.0, 'Gráfica 2')"
            ]
          },
          "metadata": {},
          "execution_count": 37
        },
        {
          "output_type": "display_data",
          "data": {
            "text/plain": [
              "<Figure size 1100x350 with 2 Axes>"
            ],
            "image/png": "[encoded data removed]"
          },
          "metadata": {}
        }
      ]
    }
  ]
}